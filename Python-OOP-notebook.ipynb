{
 "cells": [
  {
   "cell_type": "markdown",
   "metadata": {},
   "source": [
    "# Python Object Oriented Programming"
   ]
  },
  {
   "cell_type": "markdown",
   "metadata": {},
   "source": [
    "Object-oriented programming OOP is an approach to programming centered around objects. While using Python objects is relatively straightforward, object oriented programming is a big subject and covering it thoroughly requires much more space than we can give it here. On the other hand, the basic machinery of OOP is relatively simple, especially in Python, and understanding it will give you a greater appreciation of how Python works.\n",
    "\n",
    "An object is a collection of data along with `methods (functions)`, that can operate on that data, and `instance variables`, that characterize or are otherwise associated with the data. Taken together, these methods and instance variables are known as an object’s `attributes`.\n",
    "\n",
    "A NumPy array provides an illustrative example of an object. It contains data, in the form of the elements of the array, and it has a number of attributes, which can be accessed using the dot syntax. The size and shape of a NumPy array are examples of `instance variables` that are determined for a particular array when it is created, or `instantiated`, in the jargon of OOP:"
   ]
  },
  {
   "cell_type": "code",
   "execution_count": 2,
   "metadata": {},
   "outputs": [
    {
     "data": {
      "text/plain": [
       "6"
      ]
     },
     "execution_count": 2,
     "metadata": {},
     "output_type": "execute_result"
    }
   ],
   "source": [
    "import numpy as np\n",
    "\n",
    "w = np.array([[2, -5, 6], [-10, 9, 7]])\n",
    "\n",
    "w.size # size is an array instance variable"
   ]
  },
  {
   "cell_type": "code",
   "execution_count": 3,
   "metadata": {},
   "outputs": [
    {
     "data": {
      "text/plain": [
       "(2, 3)"
      ]
     },
     "execution_count": 3,
     "metadata": {},
     "output_type": "execute_result"
    }
   ],
   "source": [
    "w.shape # shape is another array instance variable"
   ]
  },
  {
   "cell_type": "markdown",
   "metadata": {},
   "source": [
    "NumPy arrays have methods associated with them, functions that act on a NumPy array, such as the methods that calculate the mean and standard deviation:"
   ]
  },
  {
   "cell_type": "code",
   "execution_count": 4,
   "metadata": {},
   "outputs": [
    {
     "data": {
      "text/plain": [
       "1.5"
      ]
     },
     "execution_count": 4,
     "metadata": {},
     "output_type": "execute_result"
    }
   ],
   "source": [
    "w.mean()"
   ]
  },
  {
   "cell_type": "code",
   "execution_count": 5,
   "metadata": {},
   "outputs": [
    {
     "data": {
      "text/plain": [
       "6.849574196011505"
      ]
     },
     "execution_count": 5,
     "metadata": {},
     "output_type": "execute_result"
    }
   ],
   "source": [
    "w.std()"
   ]
  },
  {
   "cell_type": "markdown",
   "metadata": {},
   "source": [
    "Object methods always have parentheses, which may or may not take an argument. By contrast, instance variables do not have parentheses or take arguments. In the language of OOP, we created an instance of the NumPy array class and named it `w` when we wrote w = np.array(...) above. \n",
    "\n",
    "Writing x = np.numpy([8, -4, -6, 3]) creates another instance of the NumPy array class, with different instance variables, but with the same set of methods (although using them on `x` would give different results than using them on `w`). `w` and `x` are two objects that belong to the same NumPy array class. Once we have instantiated an array, it is available for further queries or processing, which might involve interacting with other objects.\n",
    "\n",
    "## Defining and Using a Class\n",
    "\n",
    "In Python, we can define new kinds of objects by writing classes to augment Python’s classes, much like we can define our own functions to augment Python’s functions.\n",
    "\n",
    "\n",
    "To illustrate, we start by defining a class to model colloidal suspensions, which are very small microparticles, generally between a nanometer and a micrometer in diameter, suspended in a liquid. Colloidal gold was known to the Romans and used for staining glass. Today, colloids are valued for their medical uses and optical properties; they find application in a wide spectrum of technologies, including coatings and paints. Suspended in a liquid, colloidal microparticles are batted about by the liquid molecules, a phenomenon known as Brownian motion. This Brownian motion is characterized by a diffusion coefficient which can be determined using a formula Einstein derived in 1905: $D = k_BT/\\zeta$, where $k_B$ is Boltzmann’s constant, T is the\n",
    "absolute temperature, and $\\zeta$ is the friction coefficient. The friction coefficient is given by $\\zeta = 3\\pi\\eta d$, where $\\eta$ is the viscosity of the suspend ing liquid, and d is the particle diameter. Under the influence of gravity, the particles tend to settle at a velocity of $\\upsilon_sed = (\\rho_p - \\rho_l )g\\pi d^3/6\\zeta$, where g is the acceleration due to gravity, and $\\rho_p$ and $\\rho_l$ are the mass density of the particles and suspending liquid, respectively.\n",
    "\n",
    "We define a`Colloi` class below, but before we describe the code for defining the class, let’s see how it works. Our`Colloi` class takes five arguments: the particle diameter`pdia` in meters, the particle density`pden` in kg/m3, the liquid viscosity`lvis` in Pa-s, the liquid density`lden` in kg/m3, and the temperature`temp` in degrees Celsius. All units are SI, meaning kilograms, meters, seconds, etc. We design our *Colloid* class to have these as arguments to be input by the user:\n",
    "\n",
    "`Colloid(pdiam, pdens, lvisc, ldens, tempC)`\n",
    "\n",
    "As an example, let’s define a gold (Au) colloid suspended in water (H2O) at room temperature. Before getting started, however, we need to import the`Colloi` class into our IPython environment. The code for the`Colloi` class is stored in a file called`colloid.p`. This should be located in your IPython working directory. After putting it there, you can check to see if it’s present by asking for a list of the files in your directory.\n",
    "\n",
    "```\n",
    "In [1]: ls\n",
    "colloid.py\n",
    "```\n",
    "This tells us that the file colloid.py is present. Next, we need to import the Colloid class so that it’s available to us to use:\n",
    "```\n",
    "In [2]: from colloid import Colloid\n",
    "```\n",
    "\n",
    "Note that we omit the`.p` extension on the file`colloid.p` that contains the class definition for the Colloid class. Now that we have imported the`Colloi` class, we can instantiate our gold colloid object.\n",
    "```\n",
    "In [3]: au_h2o = Colloid(7.5e-9, 19320., 0.00089, 1000., 25.)\n",
    "```\n",
    "Our Colloid class has six instance variables, which we access using the usual dot syntax, shown here in pairs to save space:\n",
    "```\n",
    "In [4]: au_h2o.pdiam, au_h2o.pdens # diameter & density\n",
    "Out[4]: (7.5e-09, 19320.0) # of gold in m and kg/m^3\n",
    "\n",
    "In [5]: au_h2o.lvisc, au_h2o.ldens # diameter & density\n",
    "Out[5]: (0.00089, 1000.0) # of water in m and kg/m^3\n",
    "\n",
    "In [6]: au_h2o.tempC, au_h2o.tempK # water temperature in\n",
    "Out[6]: (25.0, 298.15) # degrees Celsius & Kelvin\n",
    "```\n",
    "Note that our class has six instance variables but only five inputs. Obviously, the sixth, the temperature in Kelvin, is derived from the fifth, the temperature in degrees Celsius. Our Colloid class also has several methods associated with it, which we illustrate here:\n",
    "```\n",
    "In [7]: au_h2o.pmass() # particle mass in kg\n",
    "Out[7]: 4.2676572703608835e-21\n",
    "\n",
    "In [8]: au_h2o.vsed() # particle sedimentation\n",
    "Out[8]: 5.610499999999999e-10 # velocity in m/s\n",
    "\n",
    "In [9]: au_h2o.diff_coef() # particle diffusion\n",
    "Out[9]: 6.303932584269662e-10 # coefficient in m^2/s\n",
    "```\n",
    "Like all classes, we can create many different instances of the class, each characterized by a different set of instance variables. For example, a class of polystyrene (plastic) colloids 0:5 $\\mu$m in diameter with a density of 1050 kg/m3 suspended in water can be instantiated:\n",
    "\n",
    "```\n",
    "In [10]: ps_h2o = Colloid(0.5e-6, 1050., 0.00089, 1000., 25.)\n",
    "```\n",
    "We can apply the same set of methods to this second Colloid object:\n",
    "```\n",
    "In [11]: ps_h2o.pmass()\n",
    "Out[11]: 6.872233929727671e-17\n",
    "\n",
    "In [12]: ps_h2o.vsed()\n",
    "Out[12]: 7.64669163545568e-09\n",
    "```\n",
    "We have now created two instances—two objects—of the Colloid class: au_h2o and ps_h2o. Now, let’s examine the code that was used to define the Colloid class, which is given here."
   ]
  },
  {
   "cell_type": "code",
   "execution_count": 11,
   "metadata": {},
   "outputs": [],
   "source": [
    "from numpy import pi, inf\n",
    "\n",
    "class Colloid():\n",
    "    \"\"\"\n",
    "    A class to model a microparticle suspended in a liquid\n",
    "    \"\"\"\n",
    "    def __init__(self, pdiam, pdens, lvisc=0.00089, ldens=1000., tempC=25.0):\n",
    "        \"\"\"\n",
    "        Initialize suspension properties in SI units.\n",
    "        \"\"\"\n",
    "        self.pdiam = pdiam # particle diameter (m)\n",
    "        self.pdens = pdens # particle density (kg/m^3)\n",
    "        self.lvisc = lvisc # solvent viscosity (Pa-s)\n",
    "        self.ldens = ldens # solvent density (kg/m^3)\n",
    "        self.tempC = tempC # temperature (degrees C)\n",
    "        self.tempK = tempC + 273.15 # temperature (K)\n",
    "    \n",
    "    def pmass(self):\n",
    "        \"\"\"\n",
    "        Calculate particle mass\n",
    "        \"\"\"\n",
    "        return self.pdens*pi*self.pdiam**3/6.0\n",
    "\n",
    "    def friction(self):\n",
    "        return 3.0*pi*self.lvisc*self.pdiam\n",
    "\n",
    "    def vsed(self):\n",
    "        \"\"\"\n",
    "        Calculate particle sedimentation velocity\n",
    "        \"\"\"\n",
    "        g = 9.80 # gravitational acceleration\n",
    "        grav = (pi/6.0)*(self.pdens-self.ldens)*g*self.pdiam**3\n",
    "        return grav/self.friction()\n",
    "\n",
    "    def diff_coef(self):\n",
    "        \"\"\"\n",
    "        Calculate particle diffusion coefficient\n",
    "        \"\"\"\n",
    "        kB = 1.38064852e-23\n",
    "        return kB*self.tempK/self.friction()"
   ]
  },
  {
   "cell_type": "markdown",
   "metadata": {},
   "source": [
    "The `Colloid` class is defined by writing class `Colloid()` (the value of $\\pi$ and $\\infty$ are imported from NumPy prior to the class definition because we need them later). The parentheses are empty because we are creating a new class, without reference to any preexisting class. By convention, class names that we write are capitalized in Python, although it’s not strictly required. We include a docstring briefly describing the new class.\n",
    "\n",
    "### The `__int__()` method\n",
    "\n",
    "Looking over the `Colloid` class definition, we see a series of function definitions. These define the `methods` associated with the class. The `__init__()` method, which appears first, is a special method called the `constructor`. It has two leading and two trailing underscores to distinguish it from any other method you might define. The constructor is so named because it constructs (and initializes) an instance of the class. `This method is automatically called when you instantiate a class.`\n",
    "The `self` argument must be specified as the first argument in the constructor, or `__init__` will not automatically be called upon instantiation. The constructor associates the name you give an instance of a class with the `self` variable, so you can think of it as the variable that identifies a particular instance of a class. So when we write `au_h2o = Colloid(...)`, the instance name `au_h2o` gets associated with the `self` variable, even though it doesn’t appear as an explicit argument when you call it, as illustrated here: \n",
    "\n",
    "`au_h2o = Colloid(7.5e-9, 19320., 0.00089, 1000., 25.)`\n",
    "\n",
    "The five arguments above correspond to the five variables following the `self` argument in the `__init__()` definition. You undoubtedly noticed that the final three arguments of `__init__()` are provided with default values, as we might do for any function definition. Thus, because the default values correspond to those for water at room temperature, we could have instantiated `au_h2o` without specifying the last three arguments:\n",
    "\n",
    "`au_h2o = Colloid(7.5e-9, 19320.)`\n",
    "\n",
    "The body of the constructor initializes the class instance variables, which are all assigned names that have the `self` prefix. Any variable prefixed by `self` becomes an instance variable and is available to every other method in the class. The instance variables are passed to the other methods of the class through the argument `self`, which is the first argument of each method. The instance variables of one instance of a class are available only within that instance, and not to other instances of the same class. As noted previously, the instance variables can be accessed from the calling program using the dot syntax."
   ]
  },
  {
   "cell_type": "markdown",
   "metadata": {},
   "source": [
    "## Defining methods for a class\n",
    "\n",
    "Class methods are defined pretty much the same way any other function is defined. Class methods require self as the first argument, just as the `__init__` method does. This makes all instance variables of the class available to the method. When using the instance variables within a method, you must also use the `self` prefix. Variables defined within a method that do not have the `self` prefix are local to that method and cannot be seen by other methods in the class or outside of the class. For example, Boltzmann’s constant `kB`, which is defined in the `diff_coef` method, is not available to the other methods because is does not have the `self` prefix. This is a good thing because it allows methods to have their own local variables (local namespaces). The methods use the return statement to `return` values in exactly the same way conventional Python functions do.\n",
    "\n",
    "## Calling methods from within a class\n",
    "Sometimes it may be convenient for one method in a class to call another method. Suppose, for example, we want to calculate the gravitational height of a colloidal suspension, which is given by the formula $h_g = D/v_{sed}$. Both $D$ and $v_{sed}$ are already calculated by the `diff_coef` and `v_sed` methods, so we would like to write a method that simply calls these two methods and returns their quotient. Adding the following code to our class definition does the trick:"
   ]
  },
  {
   "cell_type": "code",
   "execution_count": null,
   "metadata": {},
   "outputs": [],
   "source": [
    "def grav_height(self):\n",
    "    \"\"\"Calculate gravitational height of particles\"\"\"\n",
    "    D = self.diff_coef()\n",
    "    v = self.vsed()\n",
    "    try:\n",
    "        hg = D/v\n",
    "    except ZeroDivisionError:\n",
    "        hg = inf # when liquid & particle density equal\n",
    "    return hg"
   ]
  }
 ],
 "metadata": {
  "kernelspec": {
   "display_name": "Python 3",
   "language": "python",
   "name": "python3"
  },
  "language_info": {
   "codemirror_mode": {
    "name": "ipython",
    "version": 3
   },
   "file_extension": ".py",
   "mimetype": "text/x-python",
   "name": "python",
   "nbconvert_exporter": "python",
   "pygments_lexer": "ipython3",
   "version": "3.7.7"
  }
 },
 "nbformat": 4,
 "nbformat_minor": 4
}
